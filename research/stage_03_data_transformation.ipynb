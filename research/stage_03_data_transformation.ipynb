{
 "cells": [
  {
   "cell_type": "code",
   "execution_count": 1,
   "metadata": {},
   "outputs": [],
   "source": [
    "import os\n"
   ]
  },
  {
   "cell_type": "code",
   "execution_count": 2,
   "metadata": {},
   "outputs": [
    {
     "data": {
      "text/plain": [
       "'c:\\\\Users\\\\Devendra\\\\Projects\\\\EmailSpamClassification\\\\research'"
      ]
     },
     "execution_count": 2,
     "metadata": {},
     "output_type": "execute_result"
    }
   ],
   "source": [
    "pwd"
   ]
  },
  {
   "cell_type": "code",
   "execution_count": 3,
   "metadata": {},
   "outputs": [
    {
     "name": "stdout",
     "output_type": "stream",
     "text": [
      "c:\\Users\\Devendra\\Projects\\EmailSpamClassification\n"
     ]
    }
   ],
   "source": [
    "cd .."
   ]
  },
  {
   "cell_type": "code",
   "execution_count": 4,
   "metadata": {},
   "outputs": [
    {
     "data": {
      "text/plain": [
       "'c:\\\\Users\\\\Devendra\\\\Projects\\\\EmailSpamClassification'"
      ]
     },
     "execution_count": 4,
     "metadata": {},
     "output_type": "execute_result"
    }
   ],
   "source": [
    "pwd"
   ]
  },
  {
   "cell_type": "code",
   "execution_count": 5,
   "metadata": {},
   "outputs": [],
   "source": [
    "from dataclasses import dataclass\n",
    "from pathlib import Path\n",
    "\n",
    "\n",
    "@dataclass(frozen=True)\n",
    "class DataTransformationConfig:\n",
    "    root_dir: Path\n",
    "    data_path: Path\n",
    "    target_column: str"
   ]
  },
  {
   "cell_type": "code",
   "execution_count": 6,
   "metadata": {},
   "outputs": [],
   "source": [
    "from EmailSpamClassification.constants import *\n",
    "from EmailSpamClassification.utils.utils import read_yaml, create_directories"
   ]
  },
  {
   "cell_type": "code",
   "execution_count": 7,
   "metadata": {},
   "outputs": [],
   "source": [
    "class ConfigurationManager:\n",
    "    def __init__(\n",
    "        self,\n",
    "        config_filepath = CONFIG_FILE_PATH,\n",
    "        params_filepath = PARAMS_FILE_PATH,\n",
    "        schema_filepath = SCHEMA_FILE_PATH):\n",
    "\n",
    "        self.config = read_yaml(config_filepath)\n",
    "        self.params = read_yaml(params_filepath)\n",
    "        self.schema = read_yaml(schema_filepath)\n",
    "\n",
    "        create_directories([self.config.artifacts_root])\n",
    "\n",
    "    \n",
    "    def get_data_transformation_config(self) -> DataTransformationConfig:\n",
    "        config = self.config.data_transformation\n",
    "        schema =  self.schema.TARGET_COLUMN\n",
    "\n",
    "        create_directories([config.root_dir])\n",
    "\n",
    "        data_transformation_config = DataTransformationConfig(\n",
    "            root_dir=config.root_dir,\n",
    "            data_path=config.data_path,\n",
    "            target_column = schema.name\n",
    "        )\n",
    "\n",
    "        return data_transformation_config\n"
   ]
  },
  {
   "cell_type": "code",
   "execution_count": 8,
   "metadata": {},
   "outputs": [
    {
     "name": "stderr",
     "output_type": "stream",
     "text": [
      "[nltk_data] Downloading package stopwords to\n",
      "[nltk_data]     C:\\Users\\Devendra\\AppData\\Roaming\\nltk_data...\n",
      "[nltk_data]   Package stopwords is already up-to-date!\n"
     ]
    }
   ],
   "source": [
    "import os\n",
    "from EmailSpamClassification import logger\n",
    "from sklearn.model_selection import train_test_split\n",
    "import pandas as pd\n",
    "import numpy as np\n",
    "import re\n",
    "import re\n",
    "import nltk\n",
    "nltk.download('stopwords')\n",
    "from nltk.corpus import stopwords\n",
    "from nltk.stem.porter import PorterStemmer\n",
    "ps=PorterStemmer()\n",
    "from sklearn.feature_extraction.text import CountVectorizer\n"
   ]
  },
  {
   "cell_type": "code",
   "execution_count": 11,
   "metadata": {},
   "outputs": [],
   "source": [
    "class DataTransformation:\n",
    "    def __init__(self, config: DataTransformationConfig):\n",
    "        self.config = config\n",
    "\n",
    "    \n",
    "    def get_cleaned_data(self,dataframe):\n",
    "        try:\n",
    "\n",
    "            corpus = []\n",
    "            for i in range(0, len(dataframe)):\n",
    "                review = re.sub('[^a-zA-Z]', ' ', dataframe['text'][i])\n",
    "                review = review.lower()\n",
    "                review = review.split()\n",
    "                review = [ps.stem(word) for word in review if not word in stopwords.words('english')]\n",
    "                review = ' '.join(review)\n",
    "\n",
    "                corpus.append(review)\n",
    "            return corpus\n",
    "        \n",
    "        except Exception as e:\n",
    "            raise e\n",
    "\n",
    "\n",
    "    def train_test_spliting(self):\n",
    "\n",
    "        data = pd.read_csv(self.config.data_path)\n",
    "        print(data.head())\n",
    "\n",
    "        corpus = self.get_cleaned_data(data)\n",
    "        ##print(corpus)\n",
    "        print(self.config.target_column)\n",
    "        target_feature = data[[self.config.target_column]]\n",
    "        #print(target_feature)\n",
    "\n",
    "        # Split the data into training and test sets. (0.75, 0.25) split.\n",
    "        X_train, X_test, y_train, y_test = train_test_split(corpus,target_feature,test_size=0.2, random_state=42)\n",
    "\n",
    "        cv = CountVectorizer(max_features=2500)\n",
    "        # Fit and transform with CountVectorizer\n",
    "        X_train = cv.fit_transform(X_train).toarray()\n",
    "        X_test = cv.transform(X_test).toarray()\n",
    "\n",
    "        # Get feature names from CountVectorizer\n",
    "        cols = list(cv.get_feature_names_out())\n",
    "\n",
    "        columns_name = cols + [self.config.target_column]\n",
    "        print(columns_name)\n",
    "\n",
    "        print(X_train.shape)\n",
    "        print(X_test.shape)\n",
    "        print(y_train.shape)\n",
    "        print(y_test.shape)\n",
    "     \n",
    "\n",
    "        # Create DataFrames\n",
    "        train_data = np.column_stack((X_train, y_train))\n",
    "        test_data = np.column_stack((X_test, y_test))\n",
    "\n",
    "        train_data = pd.DataFrame(train_data, columns= columns_name)\n",
    "        test_data = pd.DataFrame(test_data, columns= columns_name)\n",
    "\n",
    "\n",
    "        # Save DataFrames to CSV\n",
    "        train_data.to_csv(os.path.join(self.config.root_dir, \"train.csv\"), index=False)\n",
    "        test_data.to_csv(os.path.join(self.config.root_dir, \"test.csv\"), index=False)\n",
    "\n",
    "        logger.info(\"Splited data into training and test sets\")\n",
    "        logger.info(train_data.shape)\n",
    "        logger.info(test_data.shape)\n",
    "\n",
    "        print(train_data.shape)\n",
    "        print(test_data.shape)\n",
    "        "
   ]
  },
  {
   "cell_type": "code",
   "execution_count": 12,
   "metadata": {},
   "outputs": [
    {
     "name": "stdout",
     "output_type": "stream",
     "text": [
      "[2024-01-28 17:04:54,024: INFO: utils: yaml file: config\\config.yaml loaded successfully]\n",
      "[2024-01-28 17:04:54,032: INFO: utils: yaml file: params.yaml loaded successfully]\n",
      "[2024-01-28 17:04:54,036: INFO: utils: yaml file: schema.yaml loaded successfully]\n",
      "[2024-01-28 17:04:54,036: INFO: utils: created directory at: artifacts]\n",
      "[2024-01-28 17:04:54,036: INFO: utils: created directory at: artifacts/data_transformation]\n",
      "                                                text  spam\n",
      "0  Subject: naturally irresistible your corporate...     1\n",
      "1  Subject: the stock trading gunslinger  fanny i...     1\n",
      "2  Subject: unbelievable new homes made easy  im ...     1\n",
      "3  Subject: 4 color printing special  request add...     1\n",
      "4  Subject: do not have money , get software cds ...     1\n",
      "spam\n",
      "['aa', 'ab', 'abil', 'abl', 'absolut', 'abstract', 'ac', 'academ', 'acadia', 'accept', 'access', 'accommod', 'accomplish', 'accord', 'account', 'accur', 'accuraci', 'achiev', 'acquir', 'acquisit', 'acrobat', 'across', 'act', 'action', 'activ', 'actual', 'ad', 'adam', 'add', 'addit', 'address', 'addresse', 'adjust', 'administr', 'adob', 'advanc', 'advantag', 'advertis', 'advic', 'advis', 'advisor', 'advisori', 'affair', 'affect', 'affili', 'afford', 'afraid', 'afternoon', 'ag', 'age', 'agenc', 'agenda', 'agent', 'aggreg', 'aggress', 'ago', 'agre', 'agreement', 'agricultur', 'ahead', 'ahmad', 'aiesec', 'ail', 'aim', 'air', 'airport', 'al', 'alert', 'alex', 'algorithm', 'allen', 'allianc', 'alloc', 'allow', 'almost', 'alon', 'along', 'alp', 'alreadi', 'also', 'alt', 'altern', 'although', 'alto', 'alway', 'amaz', 'amend', 'america', 'american', 'ami', 'amitava', 'among', 'amount', 'analys', 'analysi', 'analyst', 'analyt', 'analyz', 'andersen', 'anderson', 'andi', 'andmanyoth', 'andrea', 'andrew', 'angela', 'anim', 'anita', 'anjam', 'ann', 'announc', 'annual', 'anoth', 'anshuman', 'answer', 'anthoni', 'anticip', 'antonio', 'anybodi', 'anyon', 'anyth', 'anyway', 'anywher', 'aol', 'apolog', 'appar', 'appear', 'appli', 'applic', 'appoint', 'appreci', 'approach', 'appropri', 'approv', 'approx', 'approxim', 'apr', 'april', 'aram', 'archiv', 'area', 'aris', 'around', 'arrang', 'arriv', 'art', 'arthur', 'articl', 'artist', 'artwork', 'asap', 'ashley', 'asian', 'ask', 'asp', 'aspect', 'assess', 'asset', 'assign', 'assist', 'associ', 'assum', 'assumpt', 'assur', 'atlanta', 'attach', 'attempt', 'attend', 'attende', 'attent', 'attl', 'attorney', 'attract', 'auction', 'audienc', 'audio', 'audit', 'aug', 'august', 'austin', 'australia', 'australian', 'authent', 'author', 'authoris', 'autom', 'automat', 'avail', 'ave', 'avenu', 'averag', 'avoid', 'await', 'awar', 'award', 'away', 'azurix', 'back', 'background', 'bad', 'bag', 'balanc', 'ball', 'bambo', 'bandwidth', 'bank', 'bankruptci', 'barbara', 'barrel', 'barri', 'base', 'basi', 'basic', 'basket', 'baxter', 'baylor', 'bcc', 'bear', 'beauti', 'becam', 'beck', 'becki', 'becom', 'bed', 'began', 'begin', 'behalf', 'behavior', 'behind', 'believ', 'ben', 'benchmark', 'benefit', 'bennett', 'berkeley', 'bernard', 'best', 'beth', 'better', 'beyond', 'bid', 'big', 'biggest', 'bill', 'billion', 'bio', 'bit', 'biz', 'bjorn', 'black', 'blank', 'block', 'bnp', 'board', 'bob', 'bodi', 'bond', 'bonu', 'book', 'boost', 'boss', 'boston', 'bottom', 'bought', 'box', 'brad', 'bradford', 'brand', 'break', 'breakfast', 'breath', 'brent', 'brian', 'bridg', 'brief', 'briefli', 'bring', 'broadband', 'broadcast', 'brochur', 'broker', 'brother', 'brought', 'brown', 'browser', 'bruce', 'bryan', 'bu', 'budget', 'build', 'built', 'bulk', 'burn', 'bush', 'busi', 'button', 'buy', 'buyer', 'ca', 'cairn', 'cal', 'calcul', 'calendar', 'calibr', 'california', 'call', 'cambridg', 'came', 'campaign', 'campo', 'campu', 'canada', 'cancel', 'candid', 'cannot', 'cantekin', 'cap', 'capabl', 'capac', 'capit', 'captur', 'car', 'card', 'care', 'career', 'carlo', 'carnegi', 'carol', 'carr', 'carri', 'carrier', 'carson', 'case', 'cash', 'catch', 'categori', 'caus', 'causey', 'cc', 'cd', 'ce', 'celest', 'cell', 'cent', 'center', 'centr', 'central', 'ceo', 'cera', 'certain', 'certainli', 'cfm', 'chair', 'chairman', 'challeng', 'chanc', 'chang', 'chapter', 'charg', 'charl', 'charlen', 'charm', 'charset', 'chart', 'chase', 'chat', 'cheap', 'check', 'cheer', 'chicago', 'chief', 'chilkina', 'china', 'choic', 'chonawe', 'choos', 'chri', 'christi', 'christian', 'christma', 'ciick', 'cindi', 'circul', 'citi', 'cl', 'claim', 'class', 'clay', 'clayton', 'clean', 'clear', 'clearli', 'clewlow', 'click', 'client', 'cline', 'close', 'closer', 'club', 'cluster', 'cmu', 'cn', 'co', 'coal', 'cocktail', 'code', 'coffe', 'collabor', 'colleagu', 'collect', 'colleg', 'collin', 'color', 'column', 'com', 'combin', 'come', 'comfort', 'command', 'comment', 'commerc', 'commerci', 'commiss', 'commit', 'committe', 'commod', 'common', 'commun', 'comp', 'compani', 'compar', 'comparison', 'compens', 'compet', 'competit', 'competitor', 'complet', 'complex', 'complianc', 'compon', 'comprehens', 'comput', 'concept', 'concern', 'conclus', 'condit', 'conduct', 'confer', 'confid', 'confidenti', 'confirm', 'conflict', 'confus', 'congratul', 'congress', 'connect', 'consent', 'consequ', 'consid', 'consider', 'consist', 'consolid', 'constitut', 'constraint', 'construct', 'consult', 'consum', 'consumpt', 'contact', 'contain', 'content', 'continent', 'conting', 'continu', 'contract', 'contractor', 'contribut', 'control', 'controversi', 'conveni', 'convent', 'convers', 'convert', 'cooper', 'coordin', 'copi', 'copier', 'copper', 'copyright', 'core', 'corei', 'corel', 'corner', 'corp', 'corpor', 'correct', 'correctli', 'correl', 'correspond', 'cost', 'could', 'count', 'counterparti', 'countri', 'coupl', 'coupon', 'cours', 'court', 'cover', 'coverag', 'cplex', 'craig', 'creat', 'creativ', 'credit', 'crenshaw', 'crisi', 'criteria', 'critic', 'crore', 'cross', 'crude', 'cruis', 'cs', 'cumul', 'cunningham', 'currenc', 'current', 'curv', 'custom', 'cut', 'cv', 'cypru', 'dabhol', 'daffin', 'daili', 'dale', 'dan', 'daniel', 'darrel', 'data', 'databas', 'date', 'dave', 'davi', 'david', 'dawn', 'day', 'de', 'deadlin', 'deal', 'dealer', 'dean', 'dear', 'death', 'debbi', 'debt', 'dec', 'decemb', 'decid', 'decis', 'declin', 'dedic', 'default', 'defin', 'definit', 'degre', 'delay', 'deleg', 'delet', 'delight', 'deliv', 'deliveri', 'delta', 'demand', 'demo', 'demonstr', 'deng', 'denni', 'depart', 'depend', 'deploy', 'deposit', 'dept', 'derecskey', 'deregul', 'deriv', 'describ', 'descript', 'deserv', 'deshmukh', 'design', 'desir', 'desk', 'desktop', 'despit', 'destroy', 'detail', 'detect', 'determin', 'develop', 'dhar', 'dial', 'die', 'diebold', 'differ', 'difficult', 'difficulti', 'digit', 'dinner', 'direct', 'directli', 'director', 'directori', 'disclaim', 'disclos', 'disclosur', 'discount', 'discov', 'discoveri', 'discuss', 'diseas', 'dispatch', 'display', 'disput', 'dissemin', 'dissert', 'distinct', 'distribut', 'divid', 'divis', 'doc', 'doctor', 'document', 'dollar', 'domain', 'domest', 'done', 'donna', 'door', 'dorothi', 'dose', 'doubl', 'doubt', 'doug', 'dougla', 'download', 'downtown', 'dpc', 'dr', 'draft', 'dragon', 'dramat', 'draw', 'drill', 'drive', 'drop', 'duan', 'due', 'duffi', 'dupont', 'duti', 'dvd', 'dynam', 'earli', 'earlier', 'earn', 'easi', 'easier', 'easili', 'east', 'eastern', 'eb', 'ebay', 'ebl', 'econom', 'economi', 'economist', 'ect', 'ed', 'edg', 'edison', 'edit', 'editor', 'edu', 'educ', 'edward', 'ee', 'effect', 'effici', 'effort', 'ege', 'egf', 'egm', 'ehud', 'eim', 'either', 'ekrapel', 'el', 'elect', 'electr', 'electron', 'element', 'elena', 'elig', 'elimin', 'elizabeth', 'els', 'elsb', 'email', 'emerg', 'emerson', 'employ', 'employe', 'en', 'ena', 'enabl', 'enclos', 'encod', 'encourag', 'end', 'endors', 'energi', 'engag', 'engin', 'england', 'enhanc', 'enjoy', 'enough', 'enrol', 'enron', 'enroncredit', 'enrononlin', 'enronxg', 'ensur', 'enter', 'enterpris', 'entertain', 'entir', 'entiti', 'entitl', 'entri', 'environ', 'environment', 'eogi', 'eol', 'eprm', 'epsc', 'equal', 'equip', 'equiti', 'eric', 'erisk', 'error', 'es', 'escrow', 'esmtp', 'especi', 'essenti', 'est', 'establish', 'estat', 'estim', 'et', 'etc', 'etcheverri', 'eu', 'europ', 'european', 'evalu', 'even', 'event', 'eventu', 'ever', 'everi', 'everybodi', 'everyon', 'everyth', 'evolut', 'ew', 'ex', 'exact', 'exactli', 'examin', 'exampl', 'excel', 'except', 'excess', 'exchang', 'excit', 'exclus', 'execut', 'exercis', 'exist', 'exit', 'exot', 'exotica', 'expand', 'expect', 'expens', 'experi', 'experienc', 'expert', 'expertis', 'expir', 'explain', 'explor', 'export', 'exposur', 'express', 'ext', 'extend', 'extens', 'extent', 'extern', 'extra', 'extract', 'extrem', 'eye', 'face', 'facil', 'facilit', 'fact', 'factor', 'faculti', 'fail', 'failur', 'fair', 'fairli', 'fall', 'famili', 'familiar', 'fap', 'far', 'fast', 'faster', 'fastow', 'father', 'favor', 'favour', 'fax', 'fea', 'featur', 'feb', 'februari', 'feder', 'fee', 'feedback', 'feel', 'feldman', 'ferc', 'field', 'figur', 'file', 'fill', 'final', 'financ', 'financi', 'find', 'fine', 'finish', 'firm', 'first', 'fit', 'five', 'fix', 'fl', 'flat', 'flexibl', 'fli', 'flight', 'float', 'floor', 'florida', 'flow', 'fma', 'focu', 'focus', 'folder', 'folk', 'follow', 'forc', 'forecast', 'foreign', 'forget', 'forgot', 'form', 'formal', 'format', 'former', 'formula', 'fortun', 'forum', 'forward', 'found', 'foundat', 'four', 'frame', 'framework', 'francisco', 'frank', 'free', 'french', 'frequenc', 'fresh', 'fri', 'friday', 'friend', 'front', 'ft', 'ftp', 'fuel', 'full', 'fulli', 'fun', 'function', 'fund', 'fundament', 'futur', 'fw', 'fwd', 'fyi', 'ga', 'gain', 'gambl', 'game', 'gamma', 'gandi', 'ganjoo', 'gap', 'gari', 'garp', 'garven', 'gatech', 'gather', 'gave', 'geman', 'gener', 'genethera', 'gentlemen', 'georg', 'georgia', 'get', 'gibner', 'gift', 'giusepp', 'give', 'given', 'glad', 'global', 'go', 'goal', 'godbol', 'goe', 'gold', 'gone', 'good', 'goodpastur', 'gordon', 'gorni', 'got', 'govern', 'governor', 'gpcm', 'grade', 'graduat', 'grant', 'graph', 'graphic', 'grate', 'great', 'greater', 'greatli', 'green', 'greet', 'greg', 'grid', 'griebl', 'ground', 'group', 'grow', 'growth', 'guarante', 'guess', 'guest', 'guid', 'guidanc', 'guidelin', 'guy', 'gwyn', 'halal', 'half', 'hall', 'halliburton', 'hamilton', 'hand', 'handl', 'hansen', 'happen', 'happi', 'hard', 'hardwar', 'harri', 'harvard', 'head', 'health', 'hear', 'heard', 'heat', 'heather', 'heavi', 'hector', 'hedg', 'held', 'helen', 'hello', 'help', 'helyett', 'henc', 'henwood', 'herein', 'hesit', 'hewitt', 'hi', 'hib', 'hickerson', 'high', 'higher', 'highest', 'highli', 'highlight', 'hill', 'hire', 'histor', 'histori', 'hit', 'hold', 'holiday', 'home', 'honor', 'hope', 'host', 'hot', 'hotel', 'hotmail', 'hou', 'hour', 'hourli', 'hous', 'houston', 'howard', 'howev', 'hr', 'hrgovcic', 'hsb', 'htm', 'html', 'http', 'huang', 'huge', 'human', 'hundr', 'hunter', 'huntington', 'hyatt', 'iain', 'ibuyit', 'id', 'idea', 'ideal', 'ident', 'identifi', 'ie', 'ieor', 'ignor', 'ii', 'iii', 'illustr', 'ilug', 'imag', 'imagin', 'immedi', 'impact', 'implement', 'impli', 'implic', 'import', 'impress', 'improv', 'inc', 'includ', 'incom', 'inconveni', 'incorpor', 'increas', 'incred', 'independ', 'index', 'india', 'indian', 'indic', 'individu', 'industri', 'inflat', 'info', 'infocast', 'inform', 'infrastructur', 'initi', 'innov', 'input', 'inquir', 'inquiri', 'insid', 'insight', 'instal', 'instant', 'instead', 'institut', 'instruct', 'instrument', 'insur', 'integr', 'intellig', 'intend', 'intent', 'interact', 'interconnect', 'interest', 'interfac', 'intern', 'internet', 'internship', 'interpret', 'interview', 'intranet', 'introduc', 'introduct', 'inventori', 'invest', 'investig', 'investor', 'invit', 'invoic', 'invok', 'involv', 'ioqo', 'ip', 'iraq', 'iri', 'island', 'iso', 'issler', 'issu', 'isy', 'item', 'itinerari', 'jack', 'jackson', 'jacob', 'jaesoo', 'jame', 'jan', 'jana', 'januari', 'japan', 'japanes', 'jason', 'java', 'jcc', 'jean', 'jeff', 'jeffrey', 'jennif', 'jeremi', 'jess', 'jest', 'jg', 'jim', 'jinbaek', 'job', 'joe', 'john', 'johnson', 'join', 'joint', 'jone', 'jose', 'joseph', 'journal', 'jr', 'judg', 'judgment', 'jul', 'juli', 'jump', 'jun', 'june', 'kaminski', 'karen', 'karla', 'kate', 'kathi', 'kean', 'keep', 'keith', 'ken', 'kenneth', 'kevin', 'key', 'keynot', 'kim', 'kimberli', 'kin', 'kind', 'kindal', 'kindli', 'kirste', 'kitchen', 'kmv', 'know', 'knowledg', 'known', 'koepk', 'kohli', 'krapel', 'krishna', 'krishnarao', 'kristin', 'kwi', 'la', 'lab', 'lacima', 'lack', 'lama', 'lanc', 'land', 'languag', 'laptop', 'larg', 'larger', 'largest', 'larri', 'last', 'late', 'later', 'latest', 'launch', 'laura', 'lavorato', 'law', 'lawyer', 'lay', 'le', 'leach', 'lead', 'leader', 'leadership', 'learn', 'leas', 'least', 'leav', 'lectur', 'led', 'lee', 'left', 'legal', 'legisl', 'lender', 'leno', 'leppard', 'less', 'let', 'letter', 'level', 'lew', 'lewi', 'li', 'liabil', 'librari', 'licens', 'life', 'light', 'like', 'limit', 'lin', 'line', 'link', 'linux', 'liquid', 'list', 'littl', 'live', 'llc', 'lloyd', 'lng', 'lo', 'load', 'loan', 'lobbi', 'local', 'locat', 'lock', 'log', 'login', 'logist', 'logo', 'lon', 'london', 'long', 'longer', 'look', 'loqo', 'lose', 'loss', 'lost', 'lot', 'lotu', 'lou', 'loui', 'louis', 'love', 'low', 'lower', 'lst', 'lsu', 'ltd', 'lu', 'luck', 'lunch', 'luncheon', 'machin', 'mack', 'macromedia', 'made', 'magazin', 'mage', 'maharashtra', 'mail', 'mailbox', 'mailer', 'mailman', 'mailto', 'mailwisconsin', 'main', 'maintain', 'mainten', 'major', 'make', 'maker', 'male', 'man', 'manag', 'mani', 'manner', 'manual', 'manufactur', 'map', 'mar', 'marc', 'march', 'margaret', 'margin', 'mari', 'mark', 'market', 'marketplac', 'marketpoint', 'marquez', 'marshal', 'martin', 'martinj', 'masson', 'master', 'match', 'materi', 'math', 'mathemat', 'matrix', 'matt', 'matter', 'matthew', 'matur', 'maureen', 'max', 'maxim', 'maximum', 'may', 'mayb', 'mb', 'mba', 'mbd', 'mcgregor', 'md', 'mean', 'meantim', 'measur', 'mechan', 'med', 'media', 'medic', 'meet', 'melinda', 'mellon', 'member', 'membership', 'memo', 'memori', 'men', 'mention', 'mentor', 'merchant', 'messag', 'met', 'metal', 'method', 'methodolog', 'metric', 'mexico', 'mg', 'mgmt', 'mgusa', 'michael', 'michel', 'microsoft', 'mid', 'middl', 'might', 'migrat', 'mike', 'mile', 'miller', 'million', 'mime', 'mind', 'mine', 'minimum', 'minist', 'ministri', 'minut', 'miss', 'mistak', 'mit', 'mix', 'mlm', 'mm', 'mobil', 'model', 'modif', 'modifi', 'modul', 'molli', 'moment', 'mon', 'monday', 'money', 'monitor', 'mont', 'month', 'monthli', 'moodi', 'moor', 'morgan', 'morn', 'mortgag', 'mother', 'motion', 'motiv', 'move', 'movement', 'movi', 'mr', 'ms', 'mscf', 'mseb', 'msn', 'much', 'multi', 'multipl', 'mumford', 'murphi', 'music', 'must', 'mutual', 'mw', 'mx', 'na', 'nalin', 'name', 'narg', 'nation', 'natur', 'naveen', 'nd', 'ne', 'neal', 'near', 'nearli', 'necessari', 'need', 'neg', 'negoti', 'neil', 'neither', 'nelson', 'nesbitt', 'net', 'netscap', 'network', 'never', 'new', 'news', 'newslett', 'next', 'ng', 'nice', 'nick', 'night', 'nine', 'non', 'none', 'noon', 'norma', 'normal', 'north', 'norton', 'note', 'noth', 'notic', 'notif', 'notifi', 'nov', 'novemb', 'npng', 'number', 'numer', 'ny', 'nyc', 'nymex', 'nyse', 'ob', 'object', 'oblig', 'observ', 'obtain', 'obvious', 'occur', 'oct', 'octob', 'oem', 'offer', 'offic', 'offici', 'offsit', 'often', 'oi', 'oil', 'ok', 'okay', 'old', 'one', 'oniin', 'onlin', 'onto', 'oooo', 'op', 'open', 'oper', 'opinion', 'opportun', 'oppos', 'opt', 'optic', 'optim', 'option', 'order', 'oren', 'org', 'organ', 'organis', 'organiz', 'orient', 'origin', 'osman', 'otc', 'other', 'otherwis', 'outlin', 'outlook', 'output', 'outsid', 'outstand', 'overal', 'overview', 'owe', 'own', 'owner', 'pa', 'pack', 'packag', 'packet', 'page', 'paid', 'palmer', 'pam', 'panel', 'paper', 'paradigm', 'paramet', 'parent', 'pari', 'pariba', 'park', 'parkhil', 'parson', 'part', 'parti', 'particip', 'particular', 'particularli', 'partner', 'partnership', 'paso', 'pass', 'password', 'past', 'patent', 'path', 'patrick', 'pattern', 'paul', 'paula', 'paulo', 'pavel', 'pay', 'payabl', 'payment', 'paypal', 'pc', 'pdf', 'pdx', 'peak', 'pend', 'pennsylvania', 'peopl', 'pep', 'per', 'percent', 'perfect', 'perform', 'perhap', 'period', 'perman', 'permiss', 'permit', 'person', 'personnel', 'perspect', 'peter', 'petrochem', 'petrona', 'pg', 'ph', 'phase', 'phd', 'phil', 'philadelphia', 'philipp', 'phillip', 'phone', 'photo', 'photoshop', 'php', 'physic', 'piazz', 'pick', 'pictur', 'piec', 'pierr', 'pinnamaneni', 'pipelin', 'pittsburgh', 'pjm', 'pl', 'place', 'plan', 'plant', 'platform', 'play', 'player', 'pleas', 'pleasur', 'plu', 'pm', 'po', 'point', 'poland', 'polici', 'polit', 'pool', 'poor', 'pop', 'popular', 'port', 'portfolio', 'portion', 'portland', 'posit', 'possibl', 'post', 'potenti', 'power', 'powerisk', 'ppa', 'pr', 'prabhu', 'practic', 'practition', 'prc', 'pre', 'predict', 'prefer', 'preliminari', 'premier', 'premium', 'prepar', 'presenc', 'present', 'presid', 'press', 'pressur', 'pretti', 'prevent', 'previou', 'previous', 'price', 'primari', 'primarili', 'princip', 'print', 'printer', 'prior', 'prioriti', 'privaci', 'privat', 'privileg', 'prize', 'pro', 'probabl', 'problem', 'procedur', 'proceed', 'process', 'procur', 'produc', 'product', 'prof', 'profession', 'professionai', 'professor', 'profil', 'profit', 'program', 'programm', 'progress', 'prohibit', 'project', 'projecthoneypot', 'promis', 'promot', 'prompt', 'properti', 'propos', 'proprietari', 'prospect', 'protect', 'protest', 'prove', 'proven', 'provid', 'provis', 'ps', 'pserc', 'public', 'publish', 'pull', 'pulp', 'purchas', 'purpos', 'pursu', 'put', 'qf', 'qmail', 'qualifi', 'qualiti', 'quant', 'quantit', 'quarter', 'quarterli', 'queri', 'quest', 'question', 'quick', 'quickli', 'quilkey', 'quit', 'quot', 'rabi', 'rac', 'rais', 'rakesh', 'ram', 'rang', 'rank', 'rapidli', 'rate', 'rather', 'ratio', 'ravi', 'ray', 'raymond', 'rc', 'rd', 'reach', 'reaction', 'reactionsnet', 'read', 'reader', 'readi', 'real', 'realiz', 'realli', 'reason', 'receipt', 'receiv', 'recent', 'recept', 'recipi', 'recogn', 'recommend', 'record', 'recruit', 'reduc', 'refer', 'refin', 'reflect', 'reform', 'refus', 'regard', 'region', 'regist', 'registr', 'regul', 'regular', 'regulatori', 'reject', 'rel', 'relat', 'relationship', 'releas', 'relev', 'reliabl', 'relianc', 'remain', 'remedi', 'rememb', 'remind', 'remot', 'remov', 'renegoti', 'renew', 'rental', 'rep', 'replac', 'repli', 'report', 'repres', 'republican', 'request', 'requir', 'reschedul', 'research', 'reserv', 'resid', 'resolut', 'resolv', 'resourc', 'respect', 'respond', 'respons', 'rest', 'restaur', 'restrict', 'restructur', 'result', 'resum', 'retail', 'retain', 'return', 'revamp', 'revenu', 'revers', 'review', 'revis', 'rfid', 'rice', 'rich', 'richard', 'rick', 'right', 'rise', 'risk', 'riskcalc', 'rli', 'rm', 'road', 'rob', 'robert', 'robertwalt', 'roch', 'rocket', 'rodrigo', 'role', 'rolet', 'roll', 'ron', 'ronn', 'room', 'ross', 'rotat', 'round', 'roundtabl', 'rpi', 'rs', 'rsvp', 'rudi', 'ruf', 'rule', 'run', 'russel', 'rutger', 'sa', 'safe', 'safeti', 'said', 'salari', 'sale', 'salli', 'sam', 'samer', 'sampl', 'san', 'sandeep', 'sap', 'satellit', 'satisfact', 'satisfi', 'saturday', 'save', 'say', 'scale', 'scenario', 'schedul', 'scheme', 'school', 'scienc', 'scope', 'scott', 'screen', 'se', 'search', 'season', 'sec', 'second', 'secret', 'secretari', 'section', 'sector', 'secur', 'see', 'seek', 'seem', 'seen', 'segment', 'select', 'self', 'sell', 'seller', 'seminar', 'send', 'sender', 'senior', 'sens', 'sensit', 'sent', 'separ', 'septemb', 'seri', 'seriou', 'serv', 'server', 'servic', 'session', 'set', 'settlement', 'seven', 'sever', 'sevil', 'sex', 'sexual', 'seyfri', 'sezgen', 'sf', 'shalesh', 'shall', 'shanbhogu', 'shankman', 'shape', 'sharad', 'share', 'sharehold', 'sheet', 'sheila', 'shelli', 'sheridan', 'sherriff', 'shift', 'shiji', 'ship', 'shirley', 'shmuel', 'shoot', 'shop', 'short', 'shortli', 'show', 'shown', 'shrivastava', 'side', 'sie', 'sight', 'sign', 'signal', 'signific', 'significantli', 'silver', 'similar', 'simon', 'simpl', 'simpli', 'simul', 'sinc', 'sincer', 'singl', 'sir', 'sit', 'site', 'situat', 'six', 'size', 'skill', 'slide', 'slightli', 'slot', 'small', 'smith', 'smtp', 'socal', 'social', 'societi', 'soft', 'softwar', 'sokolov', 'sold', 'sole', 'solicit', 'solut', 'solv', 'somebodi', 'someon', 'someth', 'sometim', 'son', 'soon', 'sorri', 'sort', 'sound', 'sourc', 'soussan', 'south', 'southern', 'sp', 'space', 'spam', 'spamassassin', 'speak', 'speaker', 'special', 'specialist', 'specif', 'specifi', 'specul', 'speed', 'spend', 'spent', 'spike', 'split', 'spoke', 'spoken', 'sponsor', 'sport', 'spot', 'spradlin', 'spread', 'spreadsheet', 'spring', 'squar', 'squirrelmail', 'sr', 'st', 'staff', 'stage', 'stake', 'stand', 'standard', 'stanford', 'star', 'start', 'state', 'statement', 'station', 'stationeri', 'statist', 'statu', 'stay', 'ste', 'step', 'stephen', 'steve', 'steven', 'stewart', 'still', 'stinson', 'stochast', 'stock', 'stop', 'storag', 'store', 'stori', 'strateg', 'strategi', 'stream', 'street', 'strength', 'stress', 'strickland', 'strictli', 'strike', 'strong', 'strongli', 'structur', 'struggl', 'student', 'studi', 'studio', 'stuff', 'style', 'sub', 'subject', 'submiss', 'submit', 'subscrib', 'subscript', 'subsidiari', 'substanti', 'success', 'suffici', 'suggest', 'suit', 'suitabl', 'sum', 'summar', 'summari', 'summer', 'sun', 'sunday', 'supatgiat', 'super', 'superior', 'supervis', 'supervisor', 'suppli', 'supplier', 'support', 'suppos', 'surbey', 'sure', 'surpris', 'survey', 'susan', 'swap', 'swing', 'switch', 'sydney', 'symbol', 'symposium', 'system', 'tab', 'tabl', 'tail', 'take', 'taken', 'talent', 'talk', 'tamarchenko', 'tani', 'tanya', 'target', 'tariff', 'task', 'tax', 'taylor', 'teach', 'team', 'tech', 'technic', 'techniqu', 'technolog', 'ted', 'tel', 'telephon', 'teler', 'tell', 'temperatur', 'templat', 'ten', 'tent', 'term', 'termin', 'test', 'texa', 'text', 'th', 'thank', 'thanksgiv', 'theoret', 'theori', 'therefor', 'thing', 'think', 'thinkgeek', 'third', 'thoma', 'though', 'thought', 'thousand', 'threat', 'three', 'throughout', 'thu', 'thur', 'thuraisingham', 'thursday', 'ticket', 'tie', 'tiger', 'till', 'tim', 'time', 'tip', 'titl', 'titman', 'today', 'todd', 'togeth', 'told', 'tom', 'tomorrow', 'toni', 'took', 'tool', 'top', 'topic', 'total', 'touch', 'tour', 'toward', 'town', 'traci', 'track', 'trade', 'trader', 'tradit', 'traffic', 'train', 'transact', 'transcript', 'transfer', 'transform', 'transit', 'transmiss', 'transmit', 'transport', 'travel', 'treasuri', 'treat', 'treatment', 'tree', 'trend', 'tri', 'trial', 'trigeorgi', 'trip', 'troubl', 'true', 'truli', 'trust', 'tue', 'tuesday', 'turn', 'tv', 'twenti', 'two', 'tx', 'type', 'typic', 'uh', 'uk', 'ultim', 'un', 'unabl', 'uncertainti', 'underli', 'understand', 'understood', 'underwrit', 'unfortun', 'union', 'uniqu', 'unit', 'univers', 'unknown', 'unless', 'unlik', 'unlimit', 'unsolicit', 'unsubscrib', 'upcom', 'updat', 'upenn', 'upgrad', 'upon', 'urgent', 'url', 'us', 'usa', 'use', 'user', 'usernam', 'usual', 'ut', 'utexa', 'util', 'vacat', 'valid', 'valu', 'valuabl', 'valuat', 'van', 'var', 'variabl', 'varieti', 'variou', 'vasant', 'vehicl', 'vendor', 'ventur', 'verifi', 'vernon', 'version', 'versu', 'via', 'viagra', 'viaspac', 'vice', 'video', 'view', 'villarr', 'vinc', 'vincent', 'virtual', 'visa', 'vision', 'visit', 'visitor', 'visual', 'vkamin', 'vkaminski', 'vl', 'vnbl', 'voic', 'voicemail', 'vol', 'volatil', 'volum', 'volunt', 'vote', 'vp', 'vs', 'vspc', 'waco', 'wade', 'wait', 'walk', 'wall', 'walton', 'want', 'warn', 'washington', 'watch', 'water', 'watson', 'way', 'weather', 'web', 'websit', 'wed', 'wednesday', 'week', 'weekend', 'weekli', 'weight', 'welcom', 'well', 'went', 'west', 'western', 'whalley', 'wharton', 'whatev', 'wherebi', 'whether', 'white', 'whole', 'wholesal', 'whose', 'wi', 'wide', 'wife', 'wiii', 'wiil', 'wil', 'wili', 'will', 'william', 'win', 'wincenti', 'wind', 'window', 'winner', 'winston', 'winter', 'wish', 'within', 'without', 'wonder', 'word', 'work', 'workshop', 'world', 'worldwid', 'worri', 'worth', 'would', 'wrap', 'write', 'written', 'wrong', 'wrote', 'wti', 'www', 'xl', 'xp', 'yahoo', 'yaman', 'ye', 'year', 'yesterday', 'yet', 'yield', 'york', 'young', 'youyi', 'yr', 'zadorozhni', 'ze', 'zero', 'zhang', 'zimin', 'zip', 'zone', 'spam']\n",
      "(4582, 2500)\n",
      "(1146, 2500)\n",
      "(4582, 1)\n",
      "(1146, 1)\n",
      "(4582, 1)\n",
      "(1146, 1)\n",
      "[2024-01-28 17:08:42,482: INFO: 869775668: Splited data into training and test sets]\n",
      "[2024-01-28 17:08:42,489: INFO: 869775668: (4582, 2501)]\n",
      "[2024-01-28 17:08:42,490: INFO: 869775668: (1146, 2501)]\n",
      "(4582, 2501)\n",
      "(1146, 2501)\n"
     ]
    }
   ],
   "source": [
    "try:\n",
    "    config = ConfigurationManager()\n",
    "    data_transformation_config = config.get_data_transformation_config()\n",
    "    data_transformation = DataTransformation(config=data_transformation_config)\n",
    "    data_transformation.train_test_spliting()\n",
    "except Exception as e:\n",
    "    raise e"
   ]
  },
  {
   "cell_type": "code",
   "execution_count": null,
   "metadata": {},
   "outputs": [],
   "source": []
  },
  {
   "cell_type": "code",
   "execution_count": null,
   "metadata": {},
   "outputs": [],
   "source": []
  },
  {
   "cell_type": "code",
   "execution_count": null,
   "metadata": {},
   "outputs": [],
   "source": []
  }
 ],
 "metadata": {
  "kernelspec": {
   "display_name": "EmailSpamClassification",
   "language": "python",
   "name": "python3"
  },
  "language_info": {
   "codemirror_mode": {
    "name": "ipython",
    "version": 3
   },
   "file_extension": ".py",
   "mimetype": "text/x-python",
   "name": "python",
   "nbconvert_exporter": "python",
   "pygments_lexer": "ipython3",
   "version": "3.8.18"
  }
 },
 "nbformat": 4,
 "nbformat_minor": 2
}
